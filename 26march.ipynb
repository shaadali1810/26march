{
 "cells": [
  {
   "cell_type": "code",
   "execution_count": 1,
   "id": "b30b8443-fc8e-4abe-a6d1-b88099f5dd0c",
   "metadata": {},
   "outputs": [],
   "source": [
    "#1 simple linear regression is used to find the best fit line between two dependent dataset \n",
    "#2 multiple Linear Regression is used to find a 2d plane in a 3d graph to analyse the gradient in the dataset of continous varibale"
   ]
  },
  {
   "cell_type": "code",
   "execution_count": 5,
   "id": "c5233539-ec84-4409-abee-8aa59bac4d13",
   "metadata": {},
   "outputs": [
    {
     "data": {
      "text/plain": [
       "'We also assume that the observations are independent of one another. Correlation between sequential observations, or auto-correlation, can be an issue with time series data -- that is, with data with a natural time-ordering.\\n\\nHow do we check regression assumptions? We examine the variability left over after we fit the regression line. We simply graph the residuals and look for any unusual patterns.\\n\\nIf a linear model makes sense, the residuals will\\n\\nhave a constant variance\\nbe approximately normally distributed (with a mean of zero), and\\nbe independent of one another.'"
      ]
     },
     "execution_count": 5,
     "metadata": {},
     "output_type": "execute_result"
    }
   ],
   "source": [
    "#2ecause we are fitting a linear model, we assume that the relationship really is linear, and that the errors, or residuals, are simply random fluctuations around the true line. We assume that the variability in the response doesn’t increase as the value of the predictor increases. This is the assumption of equal variance.\n",
    "\n",
    "'''We also assume that the observations are independent of one another. Correlation between sequential observations, or auto-correlation, can be an issue with time series data -- that is, with data with a natural time-ordering.\n",
    "\n",
    "How do we check regression assumptions? We examine the variability left over after we fit the regression line. We simply graph the residuals and look for any unusual patterns.\n",
    "\n",
    "If a linear model makes sense, the residuals will\n",
    "\n",
    "have a constant variance\n",
    "be approximately normally distributed (with a mean of zero), and\n",
    "be independent of one another.'''\n"
   ]
  },
  {
   "cell_type": "code",
   "execution_count": 6,
   "id": "79cb00ad-d17f-48a2-9c60-67c4b47c3f20",
   "metadata": {},
   "outputs": [],
   "source": [
    "#3lope and intercept are two key concepts in numeracy that help you understand how variables change in relation to each other. They are often used to model real-world scenarios, such as how the price of a product depends on the demand, or how the speed of a car affects the fuel consumption. In this article, you will learn how to use slope and intercept to create and interpret linear equations, graphs, and tables that represent real-world situations."
   ]
  },
  {
   "cell_type": "code",
   "execution_count": 9,
   "id": "3153d4e2-4320-4e91-a02b-593a17d1dfe1",
   "metadata": {},
   "outputs": [
    {
     "data": {
      "text/plain": [
       "\"In mathematical terminology, Optimization algorithm refers to the task of minimizing/maximizing an objective function f(x) parameterized by x. Similarly, in machine learning, optimization is the task of minimizing the cost function parameterized by the model's parameters. The main objective of gradient descent is to minimize the convex function using iteration of parameter updates. Once these machine learning models are optimized, these models can be used as powerful tools for Artificial Intelligence and various computer science applications.\""
      ]
     },
     "execution_count": 9,
     "metadata": {},
     "output_type": "execute_result"
    }
   ],
   "source": [
    "#4 Gradient Descent is known as one of the most commonly used optimization algorithms to train machine learning models by means of minimizing errors between actual and expected results. Further, gradient descent is also used to train Neural Networks.\n",
    "\n",
    "'''In mathematical terminology, Optimization algorithm refers to the task of minimizing/maximizing an objective function f(x) parameterized by x. Similarly, in machine learning, optimization is the task of minimizing the cost function parameterized by the model's parameters. The main objective of gradient descent is to minimize the convex function using iteration of parameter updates. Once these machine learning models are optimized, these models can be used as powerful tools for Artificial Intelligence and various computer science applications.'''"
   ]
  },
  {
   "cell_type": "code",
   "execution_count": 10,
   "id": "35399582-ca8d-4040-a356-1df92623460c",
   "metadata": {},
   "outputs": [
    {
     "data": {
      "text/plain": [
       "'Simple linear regression is a statistical approach that allows to assess the linear relationship between two quantitative variables. More precisely, it enables the relationship to be quantified and its significance to be evaluated.\\nMultiple linear regression is a generalization of simple linear regression, in the sense that this approach makes it possible to evaluate the linear relationships between a response variable (quantitative) and several explanatory variables (quantitative or qualitative).'"
      ]
     },
     "execution_count": 10,
     "metadata": {},
     "output_type": "execute_result"
    }
   ],
   "source": [
    "#5\n",
    "'''Simple linear regression is a statistical approach that allows to assess the linear relationship between two quantitative variables. More precisely, it enables the relationship to be quantified and its significance to be evaluated.\n",
    "Multiple linear regression is a generalization of simple linear regression, in the sense that this approach makes it possible to evaluate the linear relationships between a response variable (quantitative) and several explanatory variables (quantitative or qualitative).'''"
   ]
  },
  {
   "cell_type": "code",
   "execution_count": 11,
   "id": "babc116d-e6f4-4df5-a744-5c4ba6b9f67c",
   "metadata": {},
   "outputs": [],
   "source": [
    "#6 Multicollinearity is a phenomenon where two or more predictors in a regression model are moderately or highly correlated with one another. It can wreak havoc on the analysis and limit the research conclusions we can draw.2 One way to measure multicollinearity is the variance inflation factor (VIF), which assesses how much the variance of an estimated regression coefficient increases if the predictors are correlated.1 Ridge regression attempts to address this issue by adding some degree of bias to the predictors, decreasing predictor variance.0"
   ]
  },
  {
   "cell_type": "code",
   "execution_count": 12,
   "id": "a2d5e6e5-f148-4724-9e5d-12cb26420f89",
   "metadata": {},
   "outputs": [],
   "source": [
    "#7Polynomial regression is a type of regression analysis that is used when the relationship between the dependent and independent variables is not linear. It involves fitting a polynomial function to the data points to obtain a curve that represents the relationship between the variables.\n",
    "#Linear regression is a statistical technique used to find the linear relationship between a dependent variable and one or more independent variables. It is based on the assumption that there exists a linear relationship between the variables, and it uses a straight line to represent this relationship"
   ]
  },
  {
   "cell_type": "code",
   "execution_count": 13,
   "id": "8f5e18f3-a97d-4a04-9599-698a01678cde",
   "metadata": {},
   "outputs": [],
   "source": [
    "#8 Linear regression and polynomial regression are both important regression techniques used in data analysis. While linear regression is appropriate for modeling linear relationships between variables, polynomial regression is used for modeling non-linear relationships. Choosing the appropriate regression model depends on the nature of the data and the research question being investigated. It is important to choose the correct model to ensure accurate results and effective decision-making."
   ]
  },
  {
   "cell_type": "code",
   "execution_count": null,
   "id": "a7f92e39-f891-45db-9279-857467075227",
   "metadata": {},
   "outputs": [],
   "source": []
  }
 ],
 "metadata": {
  "kernelspec": {
   "display_name": "Python 3 (ipykernel)",
   "language": "python",
   "name": "python3"
  },
  "language_info": {
   "codemirror_mode": {
    "name": "ipython",
    "version": 3
   },
   "file_extension": ".py",
   "mimetype": "text/x-python",
   "name": "python",
   "nbconvert_exporter": "python",
   "pygments_lexer": "ipython3",
   "version": "3.10.8"
  }
 },
 "nbformat": 4,
 "nbformat_minor": 5
}
